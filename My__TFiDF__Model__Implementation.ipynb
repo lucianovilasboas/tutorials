{
 "cells": [
  {
   "cell_type": "code",
   "execution_count": 1,
   "metadata": {
    "collapsed": true
   },
   "outputs": [],
   "source": [
    "import pandas as pd\n",
    "import numpy as np\n",
    "\n",
    "\n",
    "from collections import Counter\n",
    "from functools import reduce\n",
    "\n",
    "from math import log2\n",
    "\n",
    "from IPython.display import HTML as html_print, display"
   ]
  },
  {
   "cell_type": "code",
   "execution_count": 2,
   "metadata": {
    "collapsed": true
   },
   "outputs": [],
   "source": [
    "def tag_print(tag, str1, str2):\n",
    "    display(html_print(\"<{0:s}>{1:s}</{0:}>\".format(tag,str1)),str2)\n",
    "    \n",
    "def h1_print(str1, str2):\n",
    "    tag_print(\"h1\", str1, str2)\n",
    "    \n",
    "def h2_print(str1, str2):\n",
    "    tag_print(\"h2\", str1, str2)\n",
    "\n",
    "def h3_print(str1, str2):\n",
    "    tag_print(\"h3\", str1, str2)    \n",
    "    \n",
    "def h4_print(str1, str2):\n",
    "    tag_print(\"h4\", str1, str2)"
   ]
  },
  {
   "cell_type": "markdown",
   "metadata": {},
   "source": [
    "# Modelo TF-IDF\n",
    "\n",
    "### Exercício 1. Considere os documentos abaixo e calcule a representação lógica desses documentos no modelo TF-IDF.\n",
    "<pre>\n",
    "    D1 = A A A B\n",
    "    D2 = A A C\n",
    "    D3 = A A\n",
    "    D4 = B B\n",
    "</pre>"
   ]
  },
  {
   "cell_type": "markdown",
   "metadata": {},
   "source": [
    "## Solução"
   ]
  },
  {
   "cell_type": "markdown",
   "metadata": {},
   "source": [
    "### 1. Calculando $f_{i,j}$ (freqüência bruta do termo $i$ no documento $j$)"
   ]
  },
  {
   "cell_type": "code",
   "execution_count": 3,
   "metadata": {},
   "outputs": [
    {
     "data": {
      "text/html": [
       "<h3>Words:</h3>"
      ],
      "text/plain": [
       "<IPython.core.display.HTML object>"
      ]
     },
     "metadata": {},
     "output_type": "display_data"
    },
    {
     "data": {
      "text/plain": [
       "['A', 'B', 'C']"
      ]
     },
     "metadata": {},
     "output_type": "display_data"
    },
    {
     "data": {
      "text/html": [
       "<h3>Words counts:</h3>"
      ],
      "text/plain": [
       "<IPython.core.display.HTML object>"
      ]
     },
     "metadata": {},
     "output_type": "display_data"
    },
    {
     "data": {
      "text/plain": [
       "[[3, 1, 0], [2, 0, 1], [2, 0, 0], [0, 2, 0]]"
      ]
     },
     "metadata": {},
     "output_type": "display_data"
    }
   ],
   "source": [
    "data = [\"A A A B\",\n",
    "        \"A A C\",\n",
    "        \"A A\",\n",
    "        \"B B\"]\n",
    "\n",
    "# matriz de nomes\n",
    "m = [z.split(\" \") for z in data]\n",
    "\n",
    "# cria o dicionário de termos\n",
    "words = sorted(set(reduce(lambda x,y :x+y ,m)))\n",
    "    \n",
    "# matriz binária\n",
    "mm = [ [1 if x in set(row) else 0 for x in words] for row in m ]    \n",
    "\n",
    "\n",
    "# matriz de contagens\n",
    "mmc = [ [Counter(row)[x] if x in set(row) else 0 for x in words] for row in m ]    \n",
    "\n",
    "# cria dicionário de contagem geral de termos\n",
    "#words_count = Counter(reduce(lambda x,y :x+y ,m))\n",
    "\n",
    "df = pd.DataFrame(data=mmc,columns=words)\n",
    "df = df.set_index('d_'+df.index.astype(str))\n",
    "#df['max_j'] = df.max(axis=1)\n",
    "\n",
    "h3_print(\"Words:\",words)\n",
    "#print()\n",
    "#print(words_count)\n",
    "#print('total words:', len(words))\n",
    "h3_print(\"Words counts:\",mmc)"
   ]
  },
  {
   "cell_type": "markdown",
   "metadata": {},
   "source": [
    "#### Exibindo $f_{i,j}$ "
   ]
  },
  {
   "cell_type": "code",
   "execution_count": 4,
   "metadata": {},
   "outputs": [
    {
     "data": {
      "text/html": [
       "<h3>Exibindo $f_{ij}$:</h3>"
      ],
      "text/plain": [
       "<IPython.core.display.HTML object>"
      ]
     },
     "metadata": {},
     "output_type": "display_data"
    },
    {
     "data": {
      "text/html": [
       "<div>\n",
       "<style>\n",
       "    .dataframe thead tr:only-child th {\n",
       "        text-align: right;\n",
       "    }\n",
       "\n",
       "    .dataframe thead th {\n",
       "        text-align: left;\n",
       "    }\n",
       "\n",
       "    .dataframe tbody tr th {\n",
       "        vertical-align: top;\n",
       "    }\n",
       "</style>\n",
       "<table border=\"1\" class=\"dataframe\">\n",
       "  <thead>\n",
       "    <tr style=\"text-align: right;\">\n",
       "      <th></th>\n",
       "      <th>A</th>\n",
       "      <th>B</th>\n",
       "      <th>C</th>\n",
       "    </tr>\n",
       "  </thead>\n",
       "  <tbody>\n",
       "    <tr>\n",
       "      <th>d_0</th>\n",
       "      <td>3</td>\n",
       "      <td>1</td>\n",
       "      <td>0</td>\n",
       "    </tr>\n",
       "    <tr>\n",
       "      <th>d_1</th>\n",
       "      <td>2</td>\n",
       "      <td>0</td>\n",
       "      <td>1</td>\n",
       "    </tr>\n",
       "    <tr>\n",
       "      <th>d_2</th>\n",
       "      <td>2</td>\n",
       "      <td>0</td>\n",
       "      <td>0</td>\n",
       "    </tr>\n",
       "    <tr>\n",
       "      <th>d_3</th>\n",
       "      <td>0</td>\n",
       "      <td>2</td>\n",
       "      <td>0</td>\n",
       "    </tr>\n",
       "  </tbody>\n",
       "</table>\n",
       "</div>"
      ],
      "text/plain": [
       "     A  B  C\n",
       "d_0  3  1  0\n",
       "d_1  2  0  1\n",
       "d_2  2  0  0\n",
       "d_3  0  2  0"
      ]
     },
     "metadata": {},
     "output_type": "display_data"
    }
   ],
   "source": [
    "f_ij = df.copy()\n",
    "\n",
    "h3_print(\"Exibindo $f_{ij}$:\",f_ij)"
   ]
  },
  {
   "cell_type": "markdown",
   "metadata": {},
   "source": [
    "### 2. Calculando $max_i f_{i,j}$ (freqüência do termo $i$ mais freqüente no documento $j$)"
   ]
  },
  {
   "cell_type": "code",
   "execution_count": 5,
   "metadata": {},
   "outputs": [
    {
     "data": {
      "text/html": [
       "<h3>Exibindo $max_i f_{i,j}$:</h3>"
      ],
      "text/plain": [
       "<IPython.core.display.HTML object>"
      ]
     },
     "metadata": {},
     "output_type": "display_data"
    },
    {
     "data": {
      "text/plain": [
       "d_0    3\n",
       "d_1    2\n",
       "d_2    2\n",
       "d_3    2\n",
       "dtype: int64"
      ]
     },
     "metadata": {},
     "output_type": "display_data"
    }
   ],
   "source": [
    "max_if_ij = f_ij.max(axis=1)\n",
    "\n",
    "h3_print(\"Exibindo $max_i f_{i,j}$:\",max_if_ij)"
   ]
  },
  {
   "cell_type": "markdown",
   "metadata": {},
   "source": [
    "### 3. Calculando $tf_{i,j} = \\frac{f_{i,j}}{ max_i f_{i,j}}$ (freqüência normalizada)"
   ]
  },
  {
   "cell_type": "code",
   "execution_count": 6,
   "metadata": {},
   "outputs": [
    {
     "data": {
      "text/html": [
       "<h3>Exibindo $tf_{i,j} = \\frac{f_{i,j}}{ max_i f_{i,j}}$:</h3>"
      ],
      "text/plain": [
       "<IPython.core.display.HTML object>"
      ]
     },
     "metadata": {},
     "output_type": "display_data"
    },
    {
     "data": {
      "text/html": [
       "<div>\n",
       "<style>\n",
       "    .dataframe thead tr:only-child th {\n",
       "        text-align: right;\n",
       "    }\n",
       "\n",
       "    .dataframe thead th {\n",
       "        text-align: left;\n",
       "    }\n",
       "\n",
       "    .dataframe tbody tr th {\n",
       "        vertical-align: top;\n",
       "    }\n",
       "</style>\n",
       "<table border=\"1\" class=\"dataframe\">\n",
       "  <thead>\n",
       "    <tr style=\"text-align: right;\">\n",
       "      <th></th>\n",
       "      <th>A</th>\n",
       "      <th>B</th>\n",
       "      <th>C</th>\n",
       "    </tr>\n",
       "  </thead>\n",
       "  <tbody>\n",
       "    <tr>\n",
       "      <th>d_0</th>\n",
       "      <td>1.0</td>\n",
       "      <td>0.33</td>\n",
       "      <td>0.0</td>\n",
       "    </tr>\n",
       "    <tr>\n",
       "      <th>d_1</th>\n",
       "      <td>1.0</td>\n",
       "      <td>0.00</td>\n",
       "      <td>0.5</td>\n",
       "    </tr>\n",
       "    <tr>\n",
       "      <th>d_2</th>\n",
       "      <td>1.0</td>\n",
       "      <td>0.00</td>\n",
       "      <td>0.0</td>\n",
       "    </tr>\n",
       "    <tr>\n",
       "      <th>d_3</th>\n",
       "      <td>0.0</td>\n",
       "      <td>1.00</td>\n",
       "      <td>0.0</td>\n",
       "    </tr>\n",
       "  </tbody>\n",
       "</table>\n",
       "</div>"
      ],
      "text/plain": [
       "       A     B    C\n",
       "d_0  1.0  0.33  0.0\n",
       "d_1  1.0  0.00  0.5\n",
       "d_2  1.0  0.00  0.0\n",
       "d_3  0.0  1.00  0.0"
      ]
     },
     "metadata": {},
     "output_type": "display_data"
    }
   ],
   "source": [
    "# Normalizando  pelo máximo\n",
    "#df = df[['A','B', 'C']].div(df.max(axis=1), axis=0) # faz a mesma coisa que a linha abaixo, mas permite selecionar as colunas\n",
    "f_ij_nom = f_ij.div(f_ij.max(axis=1), axis=0)\n",
    "\n",
    "\n",
    "\n",
    "h3_print(\"Exibindo $tf_{i,j} = \\\\frac{f_{i,j}}{ max_i f_{i,j}}$:\",f_ij_nom.round(2))"
   ]
  },
  {
   "cell_type": "code",
   "execution_count": 7,
   "metadata": {
    "collapsed": true
   },
   "outputs": [],
   "source": [
    "#df.loc['n_i'] = df[df>0].count()\n",
    "#df.loc['idf'] = np.log2(D/df.loc['n_i'])\n",
    "#df.round(2)"
   ]
  },
  {
   "cell_type": "markdown",
   "metadata": {},
   "source": [
    "### 4. Calculando $idf_i = log_2( \\frac{D}{n_i} )$, a freqüência inversa dos termos $i$ (inverse document frequency)"
   ]
  },
  {
   "cell_type": "markdown",
   "metadata": {},
   "source": [
    "Encontrando $n_i$ (quantidade de documentos $j$ em que o termo $i$ ocorre) e;\n",
    "<br>\n",
    "$D$ (quantidade total de documentos)."
   ]
  },
  {
   "cell_type": "code",
   "execution_count": 8,
   "metadata": {
    "scrolled": true
   },
   "outputs": [
    {
     "data": {
      "text/html": [
       "<h4>Exibindo $n_i$:</h4>"
      ],
      "text/plain": [
       "<IPython.core.display.HTML object>"
      ]
     },
     "metadata": {},
     "output_type": "display_data"
    },
    {
     "data": {
      "text/plain": [
       "A    3\n",
       "B    2\n",
       "C    1\n",
       "dtype: int64"
      ]
     },
     "metadata": {},
     "output_type": "display_data"
    },
    {
     "data": {
      "text/html": [
       "<h4>Exibindo $D$:</h4>"
      ],
      "text/plain": [
       "<IPython.core.display.HTML object>"
      ]
     },
     "metadata": {},
     "output_type": "display_data"
    },
    {
     "data": {
      "text/plain": [
       "4"
      ]
     },
     "metadata": {},
     "output_type": "display_data"
    }
   ],
   "source": [
    "#Encontrando n_i \n",
    "n_i = f_ij_nom[df>0].count()\n",
    "h4_print(\"Exibindo $n_i$:\",n_i)\n",
    "\n",
    "\n",
    "#Encontrando D\n",
    "D = f_ij_nom.shape[0]\n",
    "h4_print(\"Exibindo $D$:\",D)"
   ]
  },
  {
   "cell_type": "markdown",
   "metadata": {},
   "source": [
    "Calculando $idf_i$ (<i>inverse document frequency</i> para cada termo $i$)."
   ]
  },
  {
   "cell_type": "code",
   "execution_count": 9,
   "metadata": {},
   "outputs": [
    {
     "data": {
      "text/html": [
       "<h4>Exibindo $idf_i$:</h4>"
      ],
      "text/plain": [
       "<IPython.core.display.HTML object>"
      ]
     },
     "metadata": {},
     "output_type": "display_data"
    },
    {
     "data": {
      "text/plain": [
       "A    0.42\n",
       "B    1.00\n",
       "C    2.00\n",
       "dtype: float64"
      ]
     },
     "metadata": {},
     "output_type": "display_data"
    }
   ],
   "source": [
    "idf_i = np.log2(D / n_i )\n",
    "\n",
    "\n",
    "h4_print(\"Exibindo $idf_i$:\",idf_i.round(2))"
   ]
  },
  {
   "cell_type": "markdown",
   "metadata": {},
   "source": [
    "### 5. Calculando pesos finais $w_{i,j} = tf_{i,j} \\times idf_i$"
   ]
  },
  {
   "cell_type": "code",
   "execution_count": 10,
   "metadata": {},
   "outputs": [
    {
     "data": {
      "text/html": [
       "<h3>Exibindo $w_{i,j} = tf_{i,j} \\times idf_i$:</h3>"
      ],
      "text/plain": [
       "<IPython.core.display.HTML object>"
      ]
     },
     "metadata": {},
     "output_type": "display_data"
    },
    {
     "data": {
      "text/html": [
       "<div>\n",
       "<style>\n",
       "    .dataframe thead tr:only-child th {\n",
       "        text-align: right;\n",
       "    }\n",
       "\n",
       "    .dataframe thead th {\n",
       "        text-align: left;\n",
       "    }\n",
       "\n",
       "    .dataframe tbody tr th {\n",
       "        vertical-align: top;\n",
       "    }\n",
       "</style>\n",
       "<table border=\"1\" class=\"dataframe\">\n",
       "  <thead>\n",
       "    <tr style=\"text-align: right;\">\n",
       "      <th></th>\n",
       "      <th>A</th>\n",
       "      <th>B</th>\n",
       "      <th>C</th>\n",
       "    </tr>\n",
       "  </thead>\n",
       "  <tbody>\n",
       "    <tr>\n",
       "      <th>d_0</th>\n",
       "      <td>0.42</td>\n",
       "      <td>0.33</td>\n",
       "      <td>0.0</td>\n",
       "    </tr>\n",
       "    <tr>\n",
       "      <th>d_1</th>\n",
       "      <td>0.42</td>\n",
       "      <td>0.00</td>\n",
       "      <td>1.0</td>\n",
       "    </tr>\n",
       "    <tr>\n",
       "      <th>d_2</th>\n",
       "      <td>0.42</td>\n",
       "      <td>0.00</td>\n",
       "      <td>0.0</td>\n",
       "    </tr>\n",
       "    <tr>\n",
       "      <th>d_3</th>\n",
       "      <td>0.00</td>\n",
       "      <td>1.00</td>\n",
       "      <td>0.0</td>\n",
       "    </tr>\n",
       "  </tbody>\n",
       "</table>\n",
       "</div>"
      ],
      "text/plain": [
       "        A     B    C\n",
       "d_0  0.42  0.33  0.0\n",
       "d_1  0.42  0.00  1.0\n",
       "d_2  0.42  0.00  0.0\n",
       "d_3  0.00  1.00  0.0"
      ]
     },
     "metadata": {},
     "output_type": "display_data"
    }
   ],
   "source": [
    "w_ij = f_ij_nom * idf_i \n",
    "\n",
    "\n",
    "h3_print(\"Exibindo $w_{i,j} = tf_{i,j} \\\\times idf_i$:\",w_ij.round(2))"
   ]
  },
  {
   "cell_type": "markdown",
   "metadata": {},
   "source": [
    "### Exercício 2. Considere a query $q$ = \"$A B$\" para os documentos acima.\n",
    ">a. Calcule o vetor de q no modelo TF-IDF.\n",
    "<br>\n",
    ">b. Considerando a distância Euclidiana encontre o documento mais próximo de q."
   ]
  },
  {
   "cell_type": "markdown",
   "metadata": {},
   "source": [
    "a) Calculando o vetor de q no modelo TF-IDF."
   ]
  },
  {
   "cell_type": "code",
   "execution_count": 11,
   "metadata": {},
   "outputs": [
    {
     "name": "stdout",
     "output_type": "stream",
     "text": [
      "q tf_i: [1, 1, 0]\n",
      "\n",
      "q w_i:\n"
     ]
    },
    {
     "data": {
      "text/plain": [
       "A    0.42\n",
       "B    1.00\n",
       "C    0.00\n",
       "dtype: float64"
      ]
     },
     "execution_count": 11,
     "metadata": {},
     "output_type": "execute_result"
    }
   ],
   "source": [
    "q = ['A B']\n",
    "qm = [z.split(\" \") for z in q]\n",
    "qmmc = [Counter(row)[x] if x in set(row) else 0 for x in words for row in qm ]\n",
    "\n",
    "print(\"q tf_i:\", qmmc )\n",
    "\n",
    "qmmc  = qmmc / np.max(qmmc)\n",
    "qmmc = (qmmc * np.log2(D / df[ df>0].count() ) )\n",
    "\n",
    "print()\n",
    "print(\"q w_i:\")\n",
    "qmmc.round(2)"
   ]
  },
  {
   "cell_type": "markdown",
   "metadata": {},
   "source": [
    "b) Encontrando a <b>distância euclidiana</b> entre $q$ e cada documento ($d_j$). $$\\vec{d(q, d_j)}=\\sqrt{\\sum_i^n (w_{q_i} - w_{ji})^2}$$\n",
    "Where \\{$i \\in 1,2,\\ldots,n\\}$ and $w_{ij} = tf_{ij} \\times idf_i$"
   ]
  },
  {
   "cell_type": "code",
   "execution_count": 12,
   "metadata": {},
   "outputs": [
    {
     "data": {
      "text/plain": [
       "d_0    0.666667\n",
       "d_1    1.414214\n",
       "d_2    1.000000\n",
       "d_3    0.415037\n",
       "dtype: float64"
      ]
     },
     "execution_count": 12,
     "metadata": {},
     "output_type": "execute_result"
    }
   ],
   "source": [
    "#(df[['A', 'B']] - np.array(qmmc)).pow(2).sum(1).pow(0.5)\n",
    "\n",
    "#print(qmmc.values)\n",
    "#print(df.values[1])\n",
    "\n",
    "# Euclidian Distance\n",
    "#np.sum((np.array(qmmc) - df.values)**2,axis=1)**.5\n",
    "np.sum((np.array(qmmc) - w_ij)**2,axis=1)**.5"
   ]
  },
  {
   "cell_type": "code",
   "execution_count": 13,
   "metadata": {},
   "outputs": [
    {
     "data": {
      "text/plain": [
       "'d_3'"
      ]
     },
     "execution_count": 13,
     "metadata": {},
     "output_type": "execute_result"
    }
   ],
   "source": [
    "# Documento mais similar pela distância euclidiana\n",
    "((np.sum((np.array(qmmc) - w_ij)**2,axis=1)**.5)).argmin()"
   ]
  },
  {
   "cell_type": "markdown",
   "metadata": {},
   "source": [
    "c) Encontrando a <b>distância do cosseno</b> encontre o documento mais próximo de q. $$d(\\vec{q_0}, \\vec{d_j})=\\ldots$$"
   ]
  },
  {
   "cell_type": "code",
   "execution_count": null,
   "metadata": {
    "collapsed": true
   },
   "outputs": [],
   "source": []
  }
 ],
 "metadata": {
  "kernelspec": {
   "display_name": "Python 3",
   "language": "python",
   "name": "python3"
  },
  "language_info": {
   "codemirror_mode": {
    "name": "ipython",
    "version": 3
   },
   "file_extension": ".py",
   "mimetype": "text/x-python",
   "name": "python",
   "nbconvert_exporter": "python",
   "pygments_lexer": "ipython3",
   "version": "3.7.3"
  }
 },
 "nbformat": 4,
 "nbformat_minor": 2
}
