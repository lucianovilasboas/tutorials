{
 "cells": [
  {
   "cell_type": "markdown",
   "metadata": {},
   "source": [
    "http://www.minerazzi.com/tutorials/"
   ]
  },
  {
   "cell_type": "code",
   "execution_count": 32,
   "metadata": {
    "collapsed": true
   },
   "outputs": [],
   "source": [
    "import numpy as np\n",
    "import pandas as pd\n",
    "\n",
    "from sklearn.feature_extraction.text import CountVectorizer, TfidfVectorizer, HashingVectorizer\n",
    "from sklearn.model_selection import cross_val_score, train_test_split\n",
    "from sklearn.metrics.pairwise import cosine_similarity as cossine\n",
    "\n",
    "import nltk\n",
    "from time import time\n",
    "\n",
    "\n",
    "from collections import Counter\n",
    "from functools import reduce"
   ]
  },
  {
   "cell_type": "code",
   "execution_count": 2,
   "metadata": {
    "collapsed": true
   },
   "outputs": [],
   "source": [
    "def jaccard_similarity(l1, l2):\n",
    "    \"\"\"\n",
    "        Params: l1 and l2 Numpy arrays\n",
    "        Return: jaccard_similarity between l1 and l2 as double value between 0 an 1\n",
    "        \n",
    "    \"\"\"\n",
    "    len_intersect=len(np.intersect1d(l1,l2))\n",
    "    len_union=len(np.union1d(l1,l2))\n",
    "    return len_intersect/len_union\n",
    "\n",
    "def cossine_similarity(l1, l2):\n",
    "    \"\"\"\n",
    "        Params: l1 and l2 Numpy arrays\n",
    "        Return: cossine_similarity between l1 and l2 as double value between 0 an 1\n",
    "        \n",
    "    \"\"\"    \n",
    "    dot_ = np.dot(l1,l2)\n",
    "    n_l1 = np.linalg.norm(l1)\n",
    "    n_l2 = np.linalg.norm(l2,axis=0)\n",
    "    return dot_/(n_l1*n_l2)\n"
   ]
  },
  {
   "cell_type": "code",
   "execution_count": 3,
   "metadata": {
    "collapsed": true
   },
   "outputs": [],
   "source": [
    "#vec = HashingVectorizer(stop_words=nltk.corpus.stopwords.words('portuguese'))\n",
    "vec = CountVectorizer(stop_words=nltk.corpus.stopwords.words('portuguese'))\n",
    "#vec = TfidfVectorizer(stop_words=nltk.corpus.stopwords.words('portuguese'))\n",
    "documents=[\n",
    "        'iago a aula de luciano',\n",
    "        'aula 1: iuri a aula de luciano',\n",
    "        'luciano ministrou a aula',\n",
    "        'a aula foi muito boa' \n",
    "]"
   ]
  },
  {
   "cell_type": "code",
   "execution_count": 567,
   "metadata": {
    "collapsed": true
   },
   "outputs": [],
   "source": [
    "text_vec = vec.fit_transform(documents\n",
    "                            # +['iago estudou conceitos básicos de IA hoje com luciano', 'iuri nao gostou da aula de luciano']\n",
    "                            )"
   ]
  },
  {
   "cell_type": "code",
   "execution_count": 568,
   "metadata": {},
   "outputs": [
    {
     "data": {
      "text/html": [
       "<div>\n",
       "<style>\n",
       "    .dataframe thead tr:only-child th {\n",
       "        text-align: right;\n",
       "    }\n",
       "\n",
       "    .dataframe thead th {\n",
       "        text-align: left;\n",
       "    }\n",
       "\n",
       "    .dataframe tbody tr th {\n",
       "        vertical-align: top;\n",
       "    }\n",
       "</style>\n",
       "<table border=\"1\" class=\"dataframe\">\n",
       "  <thead>\n",
       "    <tr style=\"text-align: right;\">\n",
       "      <th></th>\n",
       "      <th>aula</th>\n",
       "      <th>boa</th>\n",
       "      <th>iago</th>\n",
       "      <th>iuri</th>\n",
       "      <th>luciano</th>\n",
       "      <th>ministrou</th>\n",
       "    </tr>\n",
       "  </thead>\n",
       "  <tbody>\n",
       "    <tr>\n",
       "      <th>d_0</th>\n",
       "      <td>1</td>\n",
       "      <td>0</td>\n",
       "      <td>1</td>\n",
       "      <td>0</td>\n",
       "      <td>1</td>\n",
       "      <td>0</td>\n",
       "    </tr>\n",
       "    <tr>\n",
       "      <th>d_1</th>\n",
       "      <td>2</td>\n",
       "      <td>0</td>\n",
       "      <td>0</td>\n",
       "      <td>1</td>\n",
       "      <td>1</td>\n",
       "      <td>0</td>\n",
       "    </tr>\n",
       "    <tr>\n",
       "      <th>d_2</th>\n",
       "      <td>1</td>\n",
       "      <td>0</td>\n",
       "      <td>0</td>\n",
       "      <td>0</td>\n",
       "      <td>1</td>\n",
       "      <td>1</td>\n",
       "    </tr>\n",
       "    <tr>\n",
       "      <th>d_3</th>\n",
       "      <td>1</td>\n",
       "      <td>1</td>\n",
       "      <td>0</td>\n",
       "      <td>0</td>\n",
       "      <td>0</td>\n",
       "      <td>0</td>\n",
       "    </tr>\n",
       "  </tbody>\n",
       "</table>\n",
       "</div>"
      ],
      "text/plain": [
       "     aula  boa  iago  iuri  luciano  ministrou\n",
       "d_0     1    0     1     0        1          0\n",
       "d_1     2    0     0     1        1          0\n",
       "d_2     1    0     0     0        1          1\n",
       "d_3     1    1     0     0        0          0"
      ]
     },
     "execution_count": 568,
     "metadata": {},
     "output_type": "execute_result"
    }
   ],
   "source": [
    "df = pd.DataFrame(data=text_vec.toarray(),columns=vec.get_feature_names())\n",
    "df = df.set_index('d_'+df.index.astype(str))\n",
    "\n",
    "df"
   ]
  },
  {
   "cell_type": "code",
   "execution_count": 579,
   "metadata": {
    "scrolled": true
   },
   "outputs": [
    {
     "name": "stdout",
     "output_type": "stream",
     "text": [
      "Elapsed time: 0.0019998550415039062 - My cossine_similarity: 0.6666666666666667\n"
     ]
    }
   ],
   "source": [
    "t0 = time()\n",
    "for i in range(0,df.shape[0]):\n",
    "    #print(df.values[i])\n",
    "    cos = cossine_similarity(df.values[0],df.values[i])\n",
    "    #print(\"my cossine_similarity:\",cos)\n",
    "    #cos = cossine([df.values[0]],[df.values[i]])[0][0]\n",
    "    #print(\"sk cossine_similarity:\",cos)\n",
    "    #print()\n",
    "print(\"Elapsed time:\",time()-t0,\"- My cossine_similarity:\",cos)"
   ]
  },
  {
   "cell_type": "code",
   "execution_count": 570,
   "metadata": {
    "collapsed": true
   },
   "outputs": [],
   "source": [
    "q1 = ['iago estudou conceitos básicos de IA hoje com luciano']\n",
    "q2 = ['iuri nao gostou da aula de luciano']\n",
    "qv1 = vec.transform(q1)\n",
    "qv2 = vec.transform(q2)"
   ]
  },
  {
   "cell_type": "code",
   "execution_count": 571,
   "metadata": {},
   "outputs": [
    {
     "data": {
      "text/html": [
       "<div>\n",
       "<style>\n",
       "    .dataframe thead tr:only-child th {\n",
       "        text-align: right;\n",
       "    }\n",
       "\n",
       "    .dataframe thead th {\n",
       "        text-align: left;\n",
       "    }\n",
       "\n",
       "    .dataframe tbody tr th {\n",
       "        vertical-align: top;\n",
       "    }\n",
       "</style>\n",
       "<table border=\"1\" class=\"dataframe\">\n",
       "  <thead>\n",
       "    <tr style=\"text-align: right;\">\n",
       "      <th></th>\n",
       "      <th>aula</th>\n",
       "      <th>boa</th>\n",
       "      <th>iago</th>\n",
       "      <th>iuri</th>\n",
       "      <th>luciano</th>\n",
       "      <th>ministrou</th>\n",
       "    </tr>\n",
       "  </thead>\n",
       "  <tbody>\n",
       "    <tr>\n",
       "      <th>d_0</th>\n",
       "      <td>1</td>\n",
       "      <td>0</td>\n",
       "      <td>1</td>\n",
       "      <td>0</td>\n",
       "      <td>1</td>\n",
       "      <td>0</td>\n",
       "    </tr>\n",
       "    <tr>\n",
       "      <th>d_1</th>\n",
       "      <td>2</td>\n",
       "      <td>0</td>\n",
       "      <td>0</td>\n",
       "      <td>1</td>\n",
       "      <td>1</td>\n",
       "      <td>0</td>\n",
       "    </tr>\n",
       "    <tr>\n",
       "      <th>d_2</th>\n",
       "      <td>1</td>\n",
       "      <td>0</td>\n",
       "      <td>0</td>\n",
       "      <td>0</td>\n",
       "      <td>1</td>\n",
       "      <td>1</td>\n",
       "    </tr>\n",
       "    <tr>\n",
       "      <th>d_3</th>\n",
       "      <td>1</td>\n",
       "      <td>1</td>\n",
       "      <td>0</td>\n",
       "      <td>0</td>\n",
       "      <td>0</td>\n",
       "      <td>0</td>\n",
       "    </tr>\n",
       "    <tr>\n",
       "      <th>qv1</th>\n",
       "      <td>0</td>\n",
       "      <td>0</td>\n",
       "      <td>1</td>\n",
       "      <td>0</td>\n",
       "      <td>1</td>\n",
       "      <td>0</td>\n",
       "    </tr>\n",
       "    <tr>\n",
       "      <th>qv2</th>\n",
       "      <td>1</td>\n",
       "      <td>0</td>\n",
       "      <td>0</td>\n",
       "      <td>1</td>\n",
       "      <td>1</td>\n",
       "      <td>0</td>\n",
       "    </tr>\n",
       "  </tbody>\n",
       "</table>\n",
       "</div>"
      ],
      "text/plain": [
       "     aula  boa  iago  iuri  luciano  ministrou\n",
       "d_0     1    0     1     0        1          0\n",
       "d_1     2    0     0     1        1          0\n",
       "d_2     1    0     0     0        1          1\n",
       "d_3     1    1     0     0        0          0\n",
       "qv1     0    0     1     0        1          0\n",
       "qv2     1    0     0     1        1          0"
      ]
     },
     "execution_count": 571,
     "metadata": {},
     "output_type": "execute_result"
    }
   ],
   "source": [
    "#row1 = {x:y for x,y in zip(['aula', 'boa', 'iago', 'iuri', 'luciano', 'ministrou'], qv1.toarray()[0])}\n",
    "#row2 = {x:y for x,y in zip(['aula', 'boa', 'iago', 'iuri', 'luciano', 'ministrou'], qv2.toarray()[0])}\n",
    "\n",
    "df.loc['qv1'] = qv1.toarray()[0]\n",
    "df.loc['qv2'] = qv2.toarray()[0]\n",
    "\n",
    "df"
   ]
  },
  {
   "cell_type": "code",
   "execution_count": 572,
   "metadata": {},
   "outputs": [
    {
     "name": "stdout",
     "output_type": "stream",
     "text": [
      "q1 [[0 0 1 0 1 0]]\n",
      "q2 [[1 0 0 1 1 0]]\n"
     ]
    }
   ],
   "source": [
    "print(\"q1\",qv1.toarray())\n",
    "print(\"q2\",qv2.toarray())"
   ]
  },
  {
   "cell_type": "code",
   "execution_count": 590,
   "metadata": {},
   "outputs": [
    {
     "name": "stdout",
     "output_type": "stream",
     "text": [
      "my cossine_similarity: d_0 0.8164965809277259\n",
      "my cossine_similarity: d_1 0.2886751345948129\n",
      "my cossine_similarity: d_2 0.40824829046386296\n",
      "my cossine_similarity: d_3 0.0\n",
      "my cossine_similarity: qv1 0.9999999999999998\n",
      "my cossine_similarity: qv2 0.40824829046386296\n",
      "Elapsed time: 0.003000497817993164\n"
     ]
    }
   ],
   "source": [
    "# qv1 cossine available and documents\n",
    "t0 = time()\n",
    "for i in range(0,df.shape[0]):\n",
    "    print(\"{} {} {}\".format(\"my cossine_similarity:\",df.index[i],cossine_similarity(qv1.toarray()[0],df.values[i])))\n",
    "    #print(\"sk cossine_similarity:\",cossine(qv1.toarray(),[df.values[i]])[0][0])\n",
    "    #print()\n",
    "print(\"Elapsed time:\",time()-t0)"
   ]
  },
  {
   "cell_type": "code",
   "execution_count": 574,
   "metadata": {},
   "outputs": [
    {
     "name": "stdout",
     "output_type": "stream",
     "text": [
      "sk cossine_similarity: 0.6666666666666669\n",
      "sk cossine_similarity: 0.9428090415820636\n",
      "sk cossine_similarity: 0.6666666666666669\n",
      "sk cossine_similarity: 0.408248290463863\n",
      "sk cossine_similarity: 0.408248290463863\n",
      "sk cossine_similarity: 1.0000000000000002\n",
      "Elapsed time: 0.002000093460083008\n"
     ]
    }
   ],
   "source": [
    "t0 = time()\n",
    "# qv2 cossine available and documents\n",
    "for i in range(0,df.shape[0]):\n",
    "    #print(\"my cossine_similarity:\",cossine_similarity(qv2.toarray()[0],df.values[i]))\n",
    "    print(\"sk cossine_similarity:\",cossine(qv2.toarray(),[df.values[i]])[0][0])\n",
    "    #print()\n",
    "print(\"Elapsed time:\",time()-t0)"
   ]
  },
  {
   "cell_type": "code",
   "execution_count": 575,
   "metadata": {},
   "outputs": [
    {
     "name": "stdout",
     "output_type": "stream",
     "text": [
      "[[0.66666667 0.94280904 0.66666667 0.40824829 0.40824829 1.        ]]\n",
      "[[0.66666667 0.94280904 0.66666667 0.40824829 0.40824829 1.        ]]\n"
     ]
    }
   ],
   "source": [
    "print(cossine(qv2.toarray(),df.values))\n",
    "print(cossine_similarity(qv2.toarray(),df.values.T))"
   ]
  },
  {
   "cell_type": "code",
   "execution_count": 576,
   "metadata": {},
   "outputs": [
    {
     "data": {
      "text/html": [
       "<div>\n",
       "<style>\n",
       "    .dataframe thead tr:only-child th {\n",
       "        text-align: right;\n",
       "    }\n",
       "\n",
       "    .dataframe thead th {\n",
       "        text-align: left;\n",
       "    }\n",
       "\n",
       "    .dataframe tbody tr th {\n",
       "        vertical-align: top;\n",
       "    }\n",
       "</style>\n",
       "<table border=\"1\" class=\"dataframe\">\n",
       "  <thead>\n",
       "    <tr style=\"text-align: right;\">\n",
       "      <th></th>\n",
       "      <th>aula</th>\n",
       "      <th>boa</th>\n",
       "      <th>iago</th>\n",
       "      <th>iuri</th>\n",
       "      <th>luciano</th>\n",
       "      <th>ministrou</th>\n",
       "      <th>sim_qv1</th>\n",
       "      <th>sim_qv2</th>\n",
       "    </tr>\n",
       "  </thead>\n",
       "  <tbody>\n",
       "    <tr>\n",
       "      <th>d_0</th>\n",
       "      <td>1</td>\n",
       "      <td>0</td>\n",
       "      <td>1</td>\n",
       "      <td>0</td>\n",
       "      <td>1</td>\n",
       "      <td>0</td>\n",
       "      <td>0.816497</td>\n",
       "      <td>0.666667</td>\n",
       "    </tr>\n",
       "    <tr>\n",
       "      <th>d_1</th>\n",
       "      <td>2</td>\n",
       "      <td>0</td>\n",
       "      <td>0</td>\n",
       "      <td>1</td>\n",
       "      <td>1</td>\n",
       "      <td>0</td>\n",
       "      <td>0.288675</td>\n",
       "      <td>0.942809</td>\n",
       "    </tr>\n",
       "    <tr>\n",
       "      <th>d_2</th>\n",
       "      <td>1</td>\n",
       "      <td>0</td>\n",
       "      <td>0</td>\n",
       "      <td>0</td>\n",
       "      <td>1</td>\n",
       "      <td>1</td>\n",
       "      <td>0.408248</td>\n",
       "      <td>0.666667</td>\n",
       "    </tr>\n",
       "    <tr>\n",
       "      <th>d_3</th>\n",
       "      <td>1</td>\n",
       "      <td>1</td>\n",
       "      <td>0</td>\n",
       "      <td>0</td>\n",
       "      <td>0</td>\n",
       "      <td>0</td>\n",
       "      <td>0.000000</td>\n",
       "      <td>0.408248</td>\n",
       "    </tr>\n",
       "    <tr>\n",
       "      <th>qv1</th>\n",
       "      <td>0</td>\n",
       "      <td>0</td>\n",
       "      <td>1</td>\n",
       "      <td>0</td>\n",
       "      <td>1</td>\n",
       "      <td>0</td>\n",
       "      <td>1.000000</td>\n",
       "      <td>0.408248</td>\n",
       "    </tr>\n",
       "    <tr>\n",
       "      <th>qv2</th>\n",
       "      <td>1</td>\n",
       "      <td>0</td>\n",
       "      <td>0</td>\n",
       "      <td>1</td>\n",
       "      <td>1</td>\n",
       "      <td>0</td>\n",
       "      <td>0.408248</td>\n",
       "      <td>1.000000</td>\n",
       "    </tr>\n",
       "  </tbody>\n",
       "</table>\n",
       "</div>"
      ],
      "text/plain": [
       "     aula  boa  iago  iuri  luciano  ministrou   sim_qv1   sim_qv2\n",
       "d_0     1    0     1     0        1          0  0.816497  0.666667\n",
       "d_1     2    0     0     1        1          0  0.288675  0.942809\n",
       "d_2     1    0     0     0        1          1  0.408248  0.666667\n",
       "d_3     1    1     0     0        0          0  0.000000  0.408248\n",
       "qv1     0    0     1     0        1          0  1.000000  0.408248\n",
       "qv2     1    0     0     1        1          0  0.408248  1.000000"
      ]
     },
     "execution_count": 576,
     "metadata": {},
     "output_type": "execute_result"
    }
   ],
   "source": [
    "df2 = df.copy()\n",
    "df2['sim_qv1'] = cossine_similarity(qv1.toarray(),df.values.T).T\n",
    "df2['sim_qv2'] = cossine_similarity(qv2.toarray(),df.values.T).T\n",
    "df2"
   ]
  },
  {
   "cell_type": "code",
   "execution_count": 566,
   "metadata": {},
   "outputs": [
    {
     "data": {
      "text/plain": [
       "array([2.23606798, 1.        ])"
      ]
     },
     "execution_count": 566,
     "metadata": {},
     "output_type": "execute_result"
    }
   ],
   "source": [
    "np.linalg.norm([[1,2],[0,1]],axis=1)"
   ]
  },
  {
   "cell_type": "markdown",
   "metadata": {},
   "source": [
    "## My Vector Space Model"
   ]
  },
  {
   "cell_type": "code",
   "execution_count": 144,
   "metadata": {},
   "outputs": [
    {
     "name": "stdout",
     "output_type": "stream",
     "text": [
      "['Adriana', 'Bernardo', 'Boas', 'Camila', 'Espiridião', 'Fabiano', 'Isaac', 'Isabella', 'Luciano', 'Maria', 'Moreira', 'Rosa', 'Silva', 'Souza', 'Vilas', 'da']\n",
      "\n",
      "Counter({'Vilas': 6, 'Espiridião': 6, 'Boas': 5, 'Moreira': 3, 'Silva': 3, 'Luciano': 1, 'Fabiano': 1, 'Isaac': 1, 'Rosa': 1, 'Maria': 1, 'Bernardo': 1, 'Isabella': 1, 'Camila': 1, 'Adriana': 1, 'da': 1, 'Souza': 1})\n",
      "total words: 16\n"
     ]
    },
    {
     "data": {
      "text/plain": [
       "[[0, 0, 1, 0, 1, 0, 0, 0, 1, 0, 0, 0, 0, 0, 2, 0],\n",
       " [0, 0, 1, 0, 1, 1, 0, 0, 0, 0, 0, 0, 0, 0, 1, 0],\n",
       " [0, 0, 0, 0, 1, 0, 1, 0, 0, 0, 0, 0, 0, 0, 0, 0],\n",
       " [0, 0, 1, 0, 1, 0, 0, 0, 0, 1, 0, 1, 0, 0, 1, 0],\n",
       " [0, 1, 1, 0, 1, 0, 0, 0, 0, 0, 1, 0, 0, 0, 1, 0],\n",
       " [0, 0, 1, 0, 1, 0, 0, 1, 0, 0, 1, 0, 0, 0, 1, 0],\n",
       " [1, 0, 0, 1, 0, 0, 0, 0, 0, 0, 1, 0, 3, 1, 0, 1]]"
      ]
     },
     "execution_count": 144,
     "metadata": {},
     "output_type": "execute_result"
    }
   ],
   "source": [
    "nomes = [\n",
    "    'Luciano Vilas Vilas Boas Espiridião',\n",
    "    'Fabiano Vilas Boas Espiridião',\n",
    "    'Isaac Espiridião',\n",
    "    'Rosa Maria Vilas Boas Espiridião',\n",
    "    'Bernardo Moreira Vilas Boas Espiridião',\n",
    "    'Isabella Moreira Vilas Boas Espiridião',\n",
    "    'Camila Adriana Moreira da Silva Silva Silva Souza']\n",
    "\n",
    "# matriz de nomes\n",
    "m = [z.split(\" \") for z in nomes]\n",
    "    \n",
    "# matriz binária\n",
    "mm = [ [1 if x in set(row) else 0 for x in words] for row in m ]    \n",
    "\n",
    "\n",
    "# matriz de contagens\n",
    "mmc = [ [Counter(row)[x] if x in set(row) else 0 for x in words] for row in m ]    \n",
    "\n",
    "# cria o dicionário de termos\n",
    "words = sorted(set(reduce(lambda x,y :x+y ,m)))\n",
    "\n",
    "# cria dicionário de contagem geral de termos\n",
    "words_count = Counter(reduce(lambda x,y :x+y ,m))\n",
    "\n",
    "print(words)\n",
    "print()\n",
    "print(words_count)\n",
    "print('total words:', len(words))\n",
    "\n",
    "mmc"
   ]
  },
  {
   "cell_type": "code",
   "execution_count": 138,
   "metadata": {},
   "outputs": [
    {
     "data": {
      "text/plain": [
       "[['Luciano', 'Vilas', 'Vilas', 'Boas', 'Espiridião'],\n",
       " ['Fabiano', 'Vilas', 'Boas', 'Espiridião'],\n",
       " ['Isaac', 'Espiridião'],\n",
       " ['Rosa', 'Maria', 'Vilas', 'Boas', 'Espiridião'],\n",
       " ['Bernardo', 'Moreira', 'Vilas', 'Boas', 'Espiridião'],\n",
       " ['Isabella', 'Moreira', 'Vilas', 'Boas', 'Espiridião'],\n",
       " ['Camila', 'Adriana', 'Moreira', 'da', 'Silva', 'Silva', 'Silva', 'Souza']]"
      ]
     },
     "execution_count": 138,
     "metadata": {},
     "output_type": "execute_result"
    }
   ],
   "source": [
    "m"
   ]
  },
  {
   "cell_type": "code",
   "execution_count": 135,
   "metadata": {
    "collapsed": true
   },
   "outputs": [],
   "source": [
    "#words_indices = dict((w, i) for i, w in enumerate(words))\n",
    "#indices_words = dict((i, w) for i, w in enumerate(words))\n",
    "#words_indices"
   ]
  },
  {
   "cell_type": "code",
   "execution_count": 154,
   "metadata": {
    "collapsed": true
   },
   "outputs": [],
   "source": [
    "df2 = pd.DataFrame(data=mmc,columns=words)"
   ]
  },
  {
   "cell_type": "code",
   "execution_count": 155,
   "metadata": {},
   "outputs": [
    {
     "data": {
      "text/html": [
       "<div>\n",
       "<style>\n",
       "    .dataframe thead tr:only-child th {\n",
       "        text-align: right;\n",
       "    }\n",
       "\n",
       "    .dataframe thead th {\n",
       "        text-align: left;\n",
       "    }\n",
       "\n",
       "    .dataframe tbody tr th {\n",
       "        vertical-align: top;\n",
       "    }\n",
       "</style>\n",
       "<table border=\"1\" class=\"dataframe\">\n",
       "  <thead>\n",
       "    <tr style=\"text-align: right;\">\n",
       "      <th></th>\n",
       "      <th>Adriana</th>\n",
       "      <th>Bernardo</th>\n",
       "      <th>Boas</th>\n",
       "      <th>Camila</th>\n",
       "      <th>Espiridião</th>\n",
       "      <th>Fabiano</th>\n",
       "      <th>Isaac</th>\n",
       "      <th>Isabella</th>\n",
       "      <th>Luciano</th>\n",
       "      <th>Maria</th>\n",
       "      <th>Moreira</th>\n",
       "      <th>Rosa</th>\n",
       "      <th>Silva</th>\n",
       "      <th>Souza</th>\n",
       "      <th>Vilas</th>\n",
       "      <th>da</th>\n",
       "    </tr>\n",
       "  </thead>\n",
       "  <tbody>\n",
       "    <tr>\n",
       "      <th>0</th>\n",
       "      <td>0</td>\n",
       "      <td>0</td>\n",
       "      <td>1</td>\n",
       "      <td>0</td>\n",
       "      <td>1</td>\n",
       "      <td>0</td>\n",
       "      <td>0</td>\n",
       "      <td>0</td>\n",
       "      <td>1</td>\n",
       "      <td>0</td>\n",
       "      <td>0</td>\n",
       "      <td>0</td>\n",
       "      <td>0</td>\n",
       "      <td>0</td>\n",
       "      <td>2</td>\n",
       "      <td>0</td>\n",
       "    </tr>\n",
       "    <tr>\n",
       "      <th>1</th>\n",
       "      <td>0</td>\n",
       "      <td>0</td>\n",
       "      <td>1</td>\n",
       "      <td>0</td>\n",
       "      <td>1</td>\n",
       "      <td>1</td>\n",
       "      <td>0</td>\n",
       "      <td>0</td>\n",
       "      <td>0</td>\n",
       "      <td>0</td>\n",
       "      <td>0</td>\n",
       "      <td>0</td>\n",
       "      <td>0</td>\n",
       "      <td>0</td>\n",
       "      <td>1</td>\n",
       "      <td>0</td>\n",
       "    </tr>\n",
       "    <tr>\n",
       "      <th>2</th>\n",
       "      <td>0</td>\n",
       "      <td>0</td>\n",
       "      <td>0</td>\n",
       "      <td>0</td>\n",
       "      <td>1</td>\n",
       "      <td>0</td>\n",
       "      <td>1</td>\n",
       "      <td>0</td>\n",
       "      <td>0</td>\n",
       "      <td>0</td>\n",
       "      <td>0</td>\n",
       "      <td>0</td>\n",
       "      <td>0</td>\n",
       "      <td>0</td>\n",
       "      <td>0</td>\n",
       "      <td>0</td>\n",
       "    </tr>\n",
       "    <tr>\n",
       "      <th>3</th>\n",
       "      <td>0</td>\n",
       "      <td>0</td>\n",
       "      <td>1</td>\n",
       "      <td>0</td>\n",
       "      <td>1</td>\n",
       "      <td>0</td>\n",
       "      <td>0</td>\n",
       "      <td>0</td>\n",
       "      <td>0</td>\n",
       "      <td>1</td>\n",
       "      <td>0</td>\n",
       "      <td>1</td>\n",
       "      <td>0</td>\n",
       "      <td>0</td>\n",
       "      <td>1</td>\n",
       "      <td>0</td>\n",
       "    </tr>\n",
       "    <tr>\n",
       "      <th>4</th>\n",
       "      <td>0</td>\n",
       "      <td>1</td>\n",
       "      <td>1</td>\n",
       "      <td>0</td>\n",
       "      <td>1</td>\n",
       "      <td>0</td>\n",
       "      <td>0</td>\n",
       "      <td>0</td>\n",
       "      <td>0</td>\n",
       "      <td>0</td>\n",
       "      <td>1</td>\n",
       "      <td>0</td>\n",
       "      <td>0</td>\n",
       "      <td>0</td>\n",
       "      <td>1</td>\n",
       "      <td>0</td>\n",
       "    </tr>\n",
       "    <tr>\n",
       "      <th>5</th>\n",
       "      <td>0</td>\n",
       "      <td>0</td>\n",
       "      <td>1</td>\n",
       "      <td>0</td>\n",
       "      <td>1</td>\n",
       "      <td>0</td>\n",
       "      <td>0</td>\n",
       "      <td>1</td>\n",
       "      <td>0</td>\n",
       "      <td>0</td>\n",
       "      <td>1</td>\n",
       "      <td>0</td>\n",
       "      <td>0</td>\n",
       "      <td>0</td>\n",
       "      <td>1</td>\n",
       "      <td>0</td>\n",
       "    </tr>\n",
       "    <tr>\n",
       "      <th>6</th>\n",
       "      <td>1</td>\n",
       "      <td>0</td>\n",
       "      <td>0</td>\n",
       "      <td>1</td>\n",
       "      <td>0</td>\n",
       "      <td>0</td>\n",
       "      <td>0</td>\n",
       "      <td>0</td>\n",
       "      <td>0</td>\n",
       "      <td>0</td>\n",
       "      <td>1</td>\n",
       "      <td>0</td>\n",
       "      <td>3</td>\n",
       "      <td>1</td>\n",
       "      <td>0</td>\n",
       "      <td>1</td>\n",
       "    </tr>\n",
       "  </tbody>\n",
       "</table>\n",
       "</div>"
      ],
      "text/plain": [
       "   Adriana  Bernardo  Boas  Camila  Espiridião  Fabiano  Isaac  Isabella  \\\n",
       "0        0         0     1       0           1        0      0         0   \n",
       "1        0         0     1       0           1        1      0         0   \n",
       "2        0         0     0       0           1        0      1         0   \n",
       "3        0         0     1       0           1        0      0         0   \n",
       "4        0         1     1       0           1        0      0         0   \n",
       "5        0         0     1       0           1        0      0         1   \n",
       "6        1         0     0       1           0        0      0         0   \n",
       "\n",
       "   Luciano  Maria  Moreira  Rosa  Silva  Souza  Vilas  da  \n",
       "0        1      0        0     0      0      0      2   0  \n",
       "1        0      0        0     0      0      0      1   0  \n",
       "2        0      0        0     0      0      0      0   0  \n",
       "3        0      1        0     1      0      0      1   0  \n",
       "4        0      0        1     0      0      0      1   0  \n",
       "5        0      0        1     0      0      0      1   0  \n",
       "6        0      0        1     0      3      1      0   1  "
      ]
     },
     "execution_count": 155,
     "metadata": {},
     "output_type": "execute_result"
    }
   ],
   "source": [
    "df2"
   ]
  },
  {
   "cell_type": "code",
   "execution_count": 158,
   "metadata": {},
   "outputs": [
    {
     "data": {
      "text/plain": [
       "Adriana       1\n",
       "Bernardo      1\n",
       "Boas          5\n",
       "Camila        1\n",
       "Espiridião    6\n",
       "Fabiano       1\n",
       "Isaac         1\n",
       "Isabella      1\n",
       "Luciano       1\n",
       "Maria         1\n",
       "Moreira       3\n",
       "Rosa          1\n",
       "Silva         1\n",
       "Souza         1\n",
       "Vilas         5\n",
       "da            1\n",
       "dtype: int64"
      ]
     },
     "execution_count": 158,
     "metadata": {},
     "output_type": "execute_result"
    }
   ],
   "source": [
    "# Em quantos documentos (d_i) cada Termo aparece?\n",
    "df2[df2>0].count()"
   ]
  },
  {
   "cell_type": "code",
   "execution_count": 161,
   "metadata": {},
   "outputs": [
    {
     "data": {
      "text/plain": [
       "Adriana       1\n",
       "Bernardo      1\n",
       "Boas          5\n",
       "Camila        1\n",
       "Espiridião    6\n",
       "Fabiano       1\n",
       "Isaac         1\n",
       "Isabella      1\n",
       "Luciano       1\n",
       "Maria         1\n",
       "Moreira       3\n",
       "Rosa          1\n",
       "Silva         3\n",
       "Souza         1\n",
       "Vilas         6\n",
       "da            1\n",
       "dtype: int64"
      ]
     },
     "execution_count": 161,
     "metadata": {},
     "output_type": "execute_result"
    }
   ],
   "source": [
    "# contagem total de termos em D documentos\n",
    "df2.sum()"
   ]
  },
  {
   "cell_type": "code",
   "execution_count": 166,
   "metadata": {},
   "outputs": [
    {
     "data": {
      "text/plain": [
       "Adriana       1.000000\n",
       "Bernardo      1.000000\n",
       "Boas          1.000000\n",
       "Camila        1.000000\n",
       "Espiridião    1.000000\n",
       "Fabiano       1.000000\n",
       "Isaac         1.000000\n",
       "Isabella      1.000000\n",
       "Luciano       1.000000\n",
       "Maria         1.000000\n",
       "Moreira       1.000000\n",
       "Rosa          1.000000\n",
       "Silva         0.333333\n",
       "Souza         1.000000\n",
       "Vilas         0.833333\n",
       "da            1.000000\n",
       "dtype: float64"
      ]
     },
     "execution_count": 166,
     "metadata": {},
     "output_type": "execute_result"
    }
   ],
   "source": [
    "# probabilidade de ocorrência de cada Termo em cada documento d_i\n",
    "df2[df2>0].count() / df2.sum()"
   ]
  },
  {
   "cell_type": "code",
   "execution_count": 123,
   "metadata": {},
   "outputs": [
    {
     "data": {
      "text/plain": [
       "array([0, 1])"
      ]
     },
     "execution_count": 123,
     "metadata": {},
     "output_type": "execute_result"
    }
   ],
   "source": [
    "np.intersect1d(mm[0],mm[2])"
   ]
  },
  {
   "cell_type": "code",
   "execution_count": 124,
   "metadata": {},
   "outputs": [
    {
     "data": {
      "text/plain": [
       "array([0, 1])"
      ]
     },
     "execution_count": 124,
     "metadata": {},
     "output_type": "execute_result"
    }
   ],
   "source": [
    "np.union1d(mm[0],mm[2])"
   ]
  },
  {
   "cell_type": "code",
   "execution_count": null,
   "metadata": {
    "collapsed": true
   },
   "outputs": [],
   "source": []
  },
  {
   "cell_type": "code",
   "execution_count": null,
   "metadata": {
    "collapsed": true
   },
   "outputs": [],
   "source": []
  },
  {
   "cell_type": "code",
   "execution_count": 125,
   "metadata": {},
   "outputs": [
    {
     "data": {
      "text/plain": [
       "1.0"
      ]
     },
     "execution_count": 125,
     "metadata": {},
     "output_type": "execute_result"
    }
   ],
   "source": [
    "jaccard_similarity(mm[0],mm[2])"
   ]
  },
  {
   "cell_type": "code",
   "execution_count": 126,
   "metadata": {},
   "outputs": [
    {
     "data": {
      "text/plain": [
       "0.3333333333333333"
      ]
     },
     "execution_count": 126,
     "metadata": {},
     "output_type": "execute_result"
    }
   ],
   "source": [
    "jaccard_similarity([\"luciano\",\"boas\"],[\"luciano\",\"vilas\"])"
   ]
  },
  {
   "cell_type": "code",
   "execution_count": 142,
   "metadata": {},
   "outputs": [
    {
     "data": {
      "text/html": [
       "<div>\n",
       "<style>\n",
       "    .dataframe thead tr:only-child th {\n",
       "        text-align: right;\n",
       "    }\n",
       "\n",
       "    .dataframe thead th {\n",
       "        text-align: left;\n",
       "    }\n",
       "\n",
       "    .dataframe tbody tr th {\n",
       "        vertical-align: top;\n",
       "    }\n",
       "</style>\n",
       "<table border=\"1\" class=\"dataframe\">\n",
       "  <thead>\n",
       "    <tr style=\"text-align: right;\">\n",
       "      <th></th>\n",
       "      <th>Adriana</th>\n",
       "      <th>Bernardo</th>\n",
       "      <th>Boas</th>\n",
       "      <th>Camila</th>\n",
       "      <th>Espiridião</th>\n",
       "      <th>Fabiano</th>\n",
       "      <th>Isaac</th>\n",
       "      <th>Isabella</th>\n",
       "      <th>Luciano</th>\n",
       "      <th>Maria</th>\n",
       "      <th>Moreira</th>\n",
       "      <th>Rosa</th>\n",
       "      <th>Silva</th>\n",
       "      <th>Souza</th>\n",
       "      <th>Vilas</th>\n",
       "      <th>da</th>\n",
       "      <th>df2.values[6]</th>\n",
       "    </tr>\n",
       "  </thead>\n",
       "  <tbody>\n",
       "    <tr>\n",
       "      <th>0</th>\n",
       "      <td>0</td>\n",
       "      <td>0</td>\n",
       "      <td>1</td>\n",
       "      <td>0</td>\n",
       "      <td>1</td>\n",
       "      <td>0</td>\n",
       "      <td>0</td>\n",
       "      <td>0</td>\n",
       "      <td>1</td>\n",
       "      <td>0</td>\n",
       "      <td>0</td>\n",
       "      <td>0</td>\n",
       "      <td>0</td>\n",
       "      <td>0</td>\n",
       "      <td>2</td>\n",
       "      <td>0</td>\n",
       "      <td>0.000000</td>\n",
       "    </tr>\n",
       "    <tr>\n",
       "      <th>1</th>\n",
       "      <td>0</td>\n",
       "      <td>0</td>\n",
       "      <td>1</td>\n",
       "      <td>0</td>\n",
       "      <td>1</td>\n",
       "      <td>1</td>\n",
       "      <td>0</td>\n",
       "      <td>0</td>\n",
       "      <td>0</td>\n",
       "      <td>0</td>\n",
       "      <td>0</td>\n",
       "      <td>0</td>\n",
       "      <td>0</td>\n",
       "      <td>0</td>\n",
       "      <td>1</td>\n",
       "      <td>0</td>\n",
       "      <td>0.000000</td>\n",
       "    </tr>\n",
       "    <tr>\n",
       "      <th>2</th>\n",
       "      <td>0</td>\n",
       "      <td>0</td>\n",
       "      <td>0</td>\n",
       "      <td>0</td>\n",
       "      <td>1</td>\n",
       "      <td>0</td>\n",
       "      <td>1</td>\n",
       "      <td>0</td>\n",
       "      <td>0</td>\n",
       "      <td>0</td>\n",
       "      <td>0</td>\n",
       "      <td>0</td>\n",
       "      <td>0</td>\n",
       "      <td>0</td>\n",
       "      <td>0</td>\n",
       "      <td>0</td>\n",
       "      <td>0.000000</td>\n",
       "    </tr>\n",
       "    <tr>\n",
       "      <th>3</th>\n",
       "      <td>0</td>\n",
       "      <td>0</td>\n",
       "      <td>1</td>\n",
       "      <td>0</td>\n",
       "      <td>1</td>\n",
       "      <td>0</td>\n",
       "      <td>0</td>\n",
       "      <td>0</td>\n",
       "      <td>0</td>\n",
       "      <td>1</td>\n",
       "      <td>0</td>\n",
       "      <td>1</td>\n",
       "      <td>0</td>\n",
       "      <td>0</td>\n",
       "      <td>1</td>\n",
       "      <td>0</td>\n",
       "      <td>0.000000</td>\n",
       "    </tr>\n",
       "    <tr>\n",
       "      <th>4</th>\n",
       "      <td>0</td>\n",
       "      <td>1</td>\n",
       "      <td>1</td>\n",
       "      <td>0</td>\n",
       "      <td>1</td>\n",
       "      <td>0</td>\n",
       "      <td>0</td>\n",
       "      <td>0</td>\n",
       "      <td>0</td>\n",
       "      <td>0</td>\n",
       "      <td>1</td>\n",
       "      <td>0</td>\n",
       "      <td>0</td>\n",
       "      <td>0</td>\n",
       "      <td>1</td>\n",
       "      <td>0</td>\n",
       "      <td>0.119523</td>\n",
       "    </tr>\n",
       "    <tr>\n",
       "      <th>5</th>\n",
       "      <td>0</td>\n",
       "      <td>0</td>\n",
       "      <td>1</td>\n",
       "      <td>0</td>\n",
       "      <td>1</td>\n",
       "      <td>0</td>\n",
       "      <td>0</td>\n",
       "      <td>1</td>\n",
       "      <td>0</td>\n",
       "      <td>0</td>\n",
       "      <td>1</td>\n",
       "      <td>0</td>\n",
       "      <td>0</td>\n",
       "      <td>0</td>\n",
       "      <td>1</td>\n",
       "      <td>0</td>\n",
       "      <td>0.119523</td>\n",
       "    </tr>\n",
       "    <tr>\n",
       "      <th>6</th>\n",
       "      <td>1</td>\n",
       "      <td>0</td>\n",
       "      <td>0</td>\n",
       "      <td>1</td>\n",
       "      <td>0</td>\n",
       "      <td>0</td>\n",
       "      <td>0</td>\n",
       "      <td>0</td>\n",
       "      <td>0</td>\n",
       "      <td>0</td>\n",
       "      <td>1</td>\n",
       "      <td>0</td>\n",
       "      <td>3</td>\n",
       "      <td>1</td>\n",
       "      <td>0</td>\n",
       "      <td>1</td>\n",
       "      <td>1.000000</td>\n",
       "    </tr>\n",
       "  </tbody>\n",
       "</table>\n",
       "</div>"
      ],
      "text/plain": [
       "   Adriana  Bernardo  Boas  Camila  Espiridião  Fabiano  Isaac  Isabella  \\\n",
       "0        0         0     1       0           1        0      0         0   \n",
       "1        0         0     1       0           1        1      0         0   \n",
       "2        0         0     0       0           1        0      1         0   \n",
       "3        0         0     1       0           1        0      0         0   \n",
       "4        0         1     1       0           1        0      0         0   \n",
       "5        0         0     1       0           1        0      0         1   \n",
       "6        1         0     0       1           0        0      0         0   \n",
       "\n",
       "   Luciano  Maria  Moreira  Rosa  Silva  Souza  Vilas  da  df2.values[6]  \n",
       "0        1      0        0     0      0      0      2   0       0.000000  \n",
       "1        0      0        0     0      0      0      1   0       0.000000  \n",
       "2        0      0        0     0      0      0      0   0       0.000000  \n",
       "3        0      1        0     1      0      0      1   0       0.000000  \n",
       "4        0      0        1     0      0      0      1   0       0.119523  \n",
       "5        0      0        1     0      0      0      1   0       0.119523  \n",
       "6        0      0        1     0      3      1      0   1       1.000000  "
      ]
     },
     "execution_count": 142,
     "metadata": {},
     "output_type": "execute_result"
    }
   ],
   "source": [
    "df3 = df2.copy()\n",
    "df3['df2.values[6]'] = cossine_similarity(df2.values[6],df2.values.T).T\n",
    "df3"
   ]
  },
  {
   "cell_type": "code",
   "execution_count": 141,
   "metadata": {},
   "outputs": [
    {
     "data": {
      "text/plain": [
       "['Luciano Vilas Vilas Boas Espiridião',\n",
       " 'Fabiano Vilas Boas Espiridião',\n",
       " 'Isaac Espiridião',\n",
       " 'Rosa Maria Vilas Boas Espiridião',\n",
       " 'Bernardo Moreira Vilas Boas Espiridião',\n",
       " 'Isabella Moreira Vilas Boas Espiridião',\n",
       " 'Camila Adriana Moreira da Silva Silva Silva Souza']"
      ]
     },
     "execution_count": 141,
     "metadata": {},
     "output_type": "execute_result"
    }
   ],
   "source": [
    "nomes"
   ]
  },
  {
   "cell_type": "code",
   "execution_count": 17,
   "metadata": {},
   "outputs": [],
   "source": [
    "s = \"Luciano\".rjust(11,\"-\")"
   ]
  },
  {
   "cell_type": "code",
   "execution_count": 20,
   "metadata": {},
   "outputs": [
    {
     "data": {
      "text/plain": [
       "'----Luciano----'"
      ]
     },
     "execution_count": 20,
     "metadata": {},
     "output_type": "execute_result"
    }
   ],
   "source": [
    "s.ljust(15,\"-\")"
   ]
  },
  {
   "cell_type": "code",
   "execution_count": 9,
   "metadata": {},
   "outputs": [
    {
     "data": {
      "text/plain": [
       "'000000000000021'"
      ]
     },
     "execution_count": 9,
     "metadata": {},
     "output_type": "execute_result"
    }
   ],
   "source": [
    "\"21\".zfill(15)"
   ]
  },
  {
   "cell_type": "code",
   "execution_count": 38,
   "metadata": {
    "collapsed": true
   },
   "outputs": [],
   "source": [
    "def fill(s,pad,char='-'):\n",
    "    l = len(s)\n",
    "    s = s.rjust(l+pad,char)\n",
    "    l = len(s)\n",
    "    return s.ljust(l+pad,char)"
   ]
  },
  {
   "cell_type": "code",
   "execution_count": 46,
   "metadata": {},
   "outputs": [
    {
     "data": {
      "text/plain": [
       "'~~~luciano~~~'"
      ]
     },
     "execution_count": 46,
     "metadata": {},
     "output_type": "execute_result"
    }
   ],
   "source": [
    "fill(\"luciano\",3,\"~\")"
   ]
  },
  {
   "cell_type": "code",
   "execution_count": null,
   "metadata": {
    "collapsed": true
   },
   "outputs": [],
   "source": []
  },
  {
   "cell_type": "code",
   "execution_count": null,
   "metadata": {
    "collapsed": true
   },
   "outputs": [],
   "source": []
  }
 ],
 "metadata": {
  "kernelspec": {
   "display_name": "Python 3",
   "language": "python",
   "name": "python3"
  },
  "language_info": {
   "codemirror_mode": {
    "name": "ipython",
    "version": 3
   },
   "file_extension": ".py",
   "mimetype": "text/x-python",
   "name": "python",
   "nbconvert_exporter": "python",
   "pygments_lexer": "ipython3",
   "version": "3.7.3"
  }
 },
 "nbformat": 4,
 "nbformat_minor": 2
}
